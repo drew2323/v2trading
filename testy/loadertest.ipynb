{
 "cells": [
  {
   "cell_type": "code",
   "execution_count": 10,
   "metadata": {},
   "outputs": [
    {
     "name": "stdout",
     "output_type": "stream",
     "text": [
      "Last multiple time: 1633024800.0 2021-09-30 18:00:00+00:00\n"
     ]
    }
   ],
   "source": [
    "\n",
    "from datetime import datetime, timedelta\n",
    "from v2realbot.utils.utils import zoneNY, zoneUTC\n",
    "\n",
    "def get_next_bar_open_time(last_bar_open_time: float, frequency: float, next_trade_time: float) -> datetime:\n",
    "    \"\"\"Returns next_bar_open_time based on the last bar open time, frequency and next trade time\"\"\"\n",
    "    # Calculate the difference between next_trade_time and last_bar_open_time in seconds (with float precision)\n",
    "    time_diff = next_trade_time - last_bar_open_time\n",
    "\n",
    "    # Find the largest multiple of frequency within the difference\n",
    "    largest_multiple = (time_diff // frequency) * frequency\n",
    "\n",
    "    # Calculate the timestamp of the last multiple\n",
    "    next_bar_open_time = last_bar_open_time + largest_multiple\n",
    "    return next_bar_open_time\n",
    "\n",
    "# Example usage\n",
    "last_bar_open_time = 0 #1633024800.123456789  # Unix timestamp with nanosecond precision\n",
    "frequency = 15.0                 # Frequency in seconds (e.g., 15 minutes)\n",
    "next_trade_time = 1633024801.987654321   # Unix timestamp with nanosecond precision\n",
    "\n",
    "result = get_next_bar_open_time(last_bar_open_time, frequency, next_trade_time)\n",
    "print(\"Last multiple time:\", result, datetime.fromtimestamp(result, tz=zoneUTC))"
   ]
  },
  {
   "cell_type": "code",
   "execution_count": null,
   "metadata": {},
   "outputs": [],
   "source": []
  }
 ],
 "metadata": {
  "kernelspec": {
   "display_name": ".venv",
   "language": "python",
   "name": "python3"
  },
  "language_info": {
   "codemirror_mode": {
    "name": "ipython",
    "version": 3
   },
   "file_extension": ".py",
   "mimetype": "text/x-python",
   "name": "python",
   "nbconvert_exporter": "python",
   "pygments_lexer": "ipython3",
   "version": "3.10.11"
  }
 },
 "nbformat": 4,
 "nbformat_minor": 2
}
