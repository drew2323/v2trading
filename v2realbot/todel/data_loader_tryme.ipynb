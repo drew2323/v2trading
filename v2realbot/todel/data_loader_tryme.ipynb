{
 "cells": [
  {
   "cell_type": "code",
   "execution_count": 9,
   "metadata": {},
   "outputs": [
    {
     "name": "stdout",
     "output_type": "stream",
     "text": [
      "Loaded env variables from file /Users/davidbrazda/Documents/Development/python/.env\n"
     ]
    }
   ],
   "source": [
    "import pandas as pd\n",
    "import numpy as np\n",
    "from numba import jit\n",
    "from v2realbot.config import DATA_DIR\n",
    "from appdirs import user_data_dir\n",
    "from v2realbot.enums.enums import AggType\n",
    "from datetime import datetime\n",
    "from v2realbot.loader.aggregator_vectorized import generate_time_bars_nb, aggregate_trades\n",
    "from v2realbot.loader.fetcher import load_data, fetch_daily_stock_trades, fetch_trades_parallel, prepare_trade_cache\n",
    "import vectorbtpro as vbt\n",
    "import pytz\n",
    "from pathlib import Path\n",
    "from dotenv import load_dotenv\n",
    "import os\n",
    "\n",
    "vbt.settings.set_theme(\"dark\")\n",
    "vbt.settings['plotting']['layout']['width'] = 1280\n",
    "vbt.settings.plotting.auto_rangebreaks = True\n",
    "# Set the option to display with pagination\n",
    "pd.set_option('display.notebook_repr_html', True)\n",
    "pd.set_option('display.max_rows', 10)  # Number of rows per page\n",
    "\n",
    "def find_dotenv():\n",
    "    \"\"\"\n",
    "    Searches for a .env file in the given directory or its parents and returns the path.\n",
    "\n",
    "    Args:\n",
    "        start_path: The directory to start searching from.\n",
    "\n",
    "    Returns:\n",
    "        Path to the .env file if found, otherwise None.\n",
    "    \"\"\"\n",
    "    try:\n",
    "        start_path = __file__\n",
    "    except NameError:\n",
    "        #print(\"Notebook probably\")\n",
    "        start_path = os.getcwd()  \n",
    "        #print(start_path)       \n",
    "\n",
    "    current_path = Path(start_path)\n",
    "    for _ in range(6):  # Limit search depth to 5 levels\n",
    "        dotenv_path = current_path / '.env'\n",
    "        if dotenv_path.exists():\n",
    "            return dotenv_path\n",
    "        current_path = current_path.parent\n",
    "    return None\n",
    "\n",
    "ENV_FILE = find_dotenv()\n",
    "\n",
    "#NALOADUJEME DOTENV ENV VARIABLES\n",
    "if load_dotenv(ENV_FILE, verbose=True) is False:\n",
    "    print(f\"Error loading.env file {ENV_FILE}. Now depending on ENV VARIABLES set externally.\")\n",
    "else:\n",
    "    print(f\"Loaded env variables from file {ENV_FILE}\")\n",
    "\n",
    "ACCOUNT1_LIVE_API_KEY = os.environ.get('ACCOUNT1_LIVE_API_KEY')\n",
    "ACCOUNT1_LIVE_SECRET_KEY = os.environ.get('ACCOUNT1_LIVE_SECRET_KEY')\n",
    "DATA_DIR_NAME = os.environ.get('DATA_DIR_NAME', \"ttools\") #folder in datadir\n",
    "\n",
    "DATA_DIR = user_data_dir(DATA_DIR_NAME, False)\n",
    "TRADE_CACHE = Path(DATA_DIR)/\"tradecache\"\n",
    "AGG_CACHE = Path(DATA_DIR)/\"aggcache\"\n",
    "zoneNY = pytz.timezone('US/Eastern')\n"
   ]
  },
  {
   "cell_type": "markdown",
   "metadata": {},
   "source": [
    "## ODSUD POKRACOVAT\n",
    "\n",
    "- upravil jsem v2trading cache and aggcache dirs na path, otestit\n",
    "- zvazit presunuti fetcheru a dalsich veci do ttools ??\n",
    "- nechat tento ipynb jako dokumentaci a tool, jeste zbyva loaddotenv zde\n",
    "- zdokumentovat vsechny zmeny, viz nize\n",
    "- \n",
    "\n",
    "\n",
    "- otestit a zdokumentovat preparetradecache.py jako script\n",
    "- otestit a zdokumentovat hlavni funkcni\n",
    "    - get fetch data\n",
    "    - a prepare trade data\n",
    "- \n",
    "- also document the core principles of cache\n",
    "- document all in the notebook here\n",
    "- dobletest everything and deploy on the servers (delete data), ability to invoke preparers maybe by gui or just script, or to quickly see the available cache data (both caches) - maybe on gui\n",
    "- nasadit zmeny na v2realbot a deployovat\n",
    " - a pohnout se dal k stratlab1 ke sve strategii a pokracovat v NI - portfolio analyzer pictures\n",
    "- udelat hlavni PROJEKT A TASKY (napr. dat tam co jsme domluvili s MArtinem pro pristi schuzku)\n",
    "\n",
    "\n",
    "**Trade cache**\n",
    "- daily files keyed by symbol (BAC-2024-01-31.parquet)\n",
    "- contain all trades for main and extended sessions of that day\n",
    "- trade cache is stored every time day is requested\n",
    "\n",
    "Tradedata can be prefetched by incoking `prepare_cache.py` script.\n",
    "```bash\n",
    "# Running without forcing remote fetch\n",
    "python3 prepare_cache.py --symbols BAC AAPL --day_start 2024-10-14 --day_stop 2024-10-18 &\n",
    "\n",
    "# Running with force_remote set to True\n",
    "python3 prepare_cache.py --symbols BAC AAPL --day_start 2024-10-14 --day_stop 2024-10-18 --force_remote &\n",
    "```\n",
    "\n",
    "**Agg cache**\n",
    "- contains aggregated data for specific range and conditions (minsize, ext vs main session etc...)\n",
    "- reused only if the request of exactly the same attributtes are requested\n",
    "- otherwise automatically agregated from trades \n"
   ]
  },
  {
   "cell_type": "code",
   "execution_count": 15,
   "metadata": {},
   "outputs": [
    {
     "name": "stdout",
     "output_type": "stream",
     "text": [
      "Contains 108  market days\n"
     ]
    },
    {
     "name": "stderr",
     "output_type": "stream",
     "text": [
      "Processing market days: 100%|██████████| 108/108 [00:00<00:00, 33984.91it/s]\n"
     ]
    },
    {
     "name": "stdout",
     "output_type": "stream",
     "text": [
      "All 108 split files loaded in 14.326442003250122 seconds\n",
      "filtrujeme 09:45:00 15:01:00\n",
      "excluding conditions ['4', '6', '7', '9', 'B', 'C', 'F', 'M', 'O', 'P', 'U', 'V', 'W', 'Z']\n",
      "minsize 100\n",
      "local_df filtered\n",
      "Saved to agg_cache /Users/davidbrazda/Library/Application Support/v2realbot/aggcache/BAC-AggType.OHLCV-1-2024-05-14T09-45-00-2024-10-16T15-01-00-4679BCFMOPUVWZ-100-False.parquet\n"
     ]
    }
   ],
   "source": [
    "#This is how to call LOAD function\n",
    "symbol = [\"BAC\"]\n",
    "#datetime in zoneNY \n",
    "day_start = datetime(2024, 5, 14, 9, 45, 0)\n",
    "day_stop = datetime(2024, 10, 16, 15, 1, 0)\n",
    "day_start = zoneNY.localize(day_start)\n",
    "day_stop = zoneNY.localize(day_stop)\n",
    "\n",
    "#requested AGG\n",
    "resolution = 1\n",
    "agg_type = AggType.OHLCV\n",
    "exclude_conditions = ['C','O','4','B','7','V','P','W','U','Z','F','9','M','6'] #None to defaults\n",
    "minsize = 100\n",
    "main_session_only = True\n",
    "force_remote = True\n",
    "\n",
    "ohlcv_df = load_data(symbol = symbol,\n",
    "                     agg_type = agg_type,\n",
    "                     resolution = resolution,\n",
    "                     start_date = day_start,\n",
    "                     end_date = day_stop,\n",
    "                     #exclude_conditions = None,\n",
    "                     minsize = 100,\n",
    "                     main_session_only = False,\n",
    "                     force_remote = False\n",
    "                     )\n",
    "bac_df = ohlcv_df[\"BAC\"]\n",
    "\n",
    "basic_data = vbt.Data.from_data(vbt.symbol_dict(ohlcv_df), tz_convert=zoneNY)\n",
    "vbt.settings['plotting']['auto_rangebreaks'] = True\n",
    "basic_data.ohlcv.plot()\n"
   ]
  },
  {
   "cell_type": "code",
   "execution_count": 2,
   "metadata": {},
   "outputs": [
    {
     "name": "stdout",
     "output_type": "stream",
     "text": [
      "Started for BAC\n",
      "Contains 10  market days\n"
     ]
    },
    {
     "name": "stderr",
     "output_type": "stream",
     "text": [
      "Processing market days: 100%|██████████| 10/10 [00:00<00:00, 3055.29it/s]"
     ]
    },
    {
     "name": "stdout",
     "output_type": "stream",
     "text": [
      "Finished for BAC\n",
      "Started for AAPL\n"
     ]
    },
    {
     "name": "stderr",
     "output_type": "stream",
     "text": [
      "\n"
     ]
    },
    {
     "name": "stdout",
     "output_type": "stream",
     "text": [
      "Contains 10  market days\n"
     ]
    },
    {
     "name": "stderr",
     "output_type": "stream",
     "text": [
      "Processing market days: 100%|██████████| 10/10 [00:00<00:00, 2787.10it/s]\n",
      "Processing market days to fetch: 100%|██████████| 9/9 [00:00<00:00, 534.34it/s]\n"
     ]
    },
    {
     "name": "stdout",
     "output_type": "stream",
     "text": [
      "2024-10-01 00:00:00-04:00 2024-10-01 23:59:59.999999-04:00\n",
      "Fetching from remote.\n",
      "2024-10-02 00:00:00-04:00 2024-10-02 23:59:59.999999-04:00\n",
      "2024-10-03 00:00:00-04:00 2024-10-03 23:59:59.999999-04:00\n",
      "Fetching from remote.\n",
      "Fetching from remote.\n",
      "2024-10-04 00:00:00-04:00 2024-10-04 23:59:59.999999-04:00\n",
      "2024-10-07 00:00:00-04:00 2024-10-07 23:59:59.999999-04:00\n",
      "Fetching from remote.\n",
      "2024-10-08 00:00:00-04:00 2024-10-08 23:59:59.999999-04:00\n",
      "2024-10-09 00:00:00-04:00 2024-10-09 23:59:59.999999-04:00\n",
      "2024-10-10 00:00:00-04:00 2024-10-10 23:59:59.999999-04:00\n",
      "2024-10-11 00:00:00-04:00 2024-10-11 23:59:59.999999-04:00\n",
      "Fetching from remote.\n"
     ]
    },
    {
     "name": "stderr",
     "output_type": "stream",
     "text": [
      "Fetching data:   0%|          | 0/9 [00:00<?, ?it/s]"
     ]
    },
    {
     "name": "stdout",
     "output_type": "stream",
     "text": [
      "Remote fetched completed. 2024-10-02 2024-10-03\n",
      "Remote fetched completed. 2024-10-03 2024-10-04\n",
      "Saved to CACHE /Users/davidbrazda/Library/Application Support/v2realbot/tradecache/AAPL-2024-10-02.parquet\n",
      "Fetching from remote.\n",
      "Saved to CACHE /Users/davidbrazda/Library/Application Support/v2realbot/tradecache/AAPL-2024-10-03.parquet\n",
      "Fetching from remote.\n",
      "Remote fetched completed. 2024-10-04 2024-10-05\n",
      "Saved to CACHE /Users/davidbrazda/Library/Application Support/v2realbot/tradecache/AAPL-2024-10-04.parquet\n",
      "Fetching from remote.\n",
      "Remote fetched completed. 2024-10-07 2024-10-08\n",
      "Saved to CACHE /Users/davidbrazda/Library/Application Support/v2realbot/tradecache/AAPL-2024-10-07.parquet\n",
      "Fetching from remote.\n",
      "Remote fetched completed. 2024-10-01 2024-10-02\n"
     ]
    },
    {
     "name": "stderr",
     "output_type": "stream",
     "text": [
      "Fetching data:  11%|█         | 1/9 [04:04<32:39, 244.99s/it]"
     ]
    },
    {
     "name": "stdout",
     "output_type": "stream",
     "text": [
      "Saved to CACHE /Users/davidbrazda/Library/Application Support/v2realbot/tradecache/AAPL-2024-10-01.parquet\n",
      "Remote fetched completed. 2024-10-08 2024-10-09\n",
      "Remote fetched completed. 2024-10-10 2024-10-11\n",
      "Saved to CACHE /Users/davidbrazda/Library/Application Support/v2realbot/tradecache/AAPL-2024-10-08.parquet\n"
     ]
    },
    {
     "name": "stderr",
     "output_type": "stream",
     "text": [
      "Fetching data:  67%|██████▋   | 6/9 [04:45<01:51, 37.27s/it] "
     ]
    },
    {
     "name": "stdout",
     "output_type": "stream",
     "text": [
      "Saved to CACHE /Users/davidbrazda/Library/Application Support/v2realbot/tradecache/AAPL-2024-10-10.parquet\n",
      "Remote fetched completed. 2024-10-09 2024-10-10\n",
      "Saved to CACHE /Users/davidbrazda/Library/Application Support/v2realbot/tradecache/AAPL-2024-10-09.parquet\n"
     ]
    },
    {
     "name": "stderr",
     "output_type": "stream",
     "text": [
      "Fetching data:  78%|███████▊  | 7/9 [04:59<01:05, 32.52s/it]"
     ]
    },
    {
     "name": "stdout",
     "output_type": "stream",
     "text": [
      "Remote fetched completed. 2024-10-11 2024-10-12\n"
     ]
    },
    {
     "name": "stderr",
     "output_type": "stream",
     "text": [
      "Fetching data: 100%|██████████| 9/9 [05:09<00:00, 34.41s/it]"
     ]
    },
    {
     "name": "stdout",
     "output_type": "stream",
     "text": [
      "Saved to CACHE /Users/davidbrazda/Library/Application Support/v2realbot/tradecache/AAPL-2024-10-11.parquet\n",
      "Finished for AAPL\n"
     ]
    },
    {
     "name": "stderr",
     "output_type": "stream",
     "text": [
      "\n"
     ]
    }
   ],
   "source": [
    "#This becomes prepare trade cache function\n",
    "symbols = [\"BAC\", \"AAPL\"]\n",
    "#datetime in zoneNY \n",
    "day_start = datetime(2024, 10, 1, 9, 45, 0)\n",
    "day_stop = datetime(2024, 10, 14, 15, 1, 0)\n",
    "day_start = zoneNY.localize(day_start)\n",
    "day_stop = zoneNY.localize(day_stop)\n",
    "force_remote = False\n",
    "\n",
    "prepare_trade_cache(symbols, day_start, day_stop, force_remote)"
   ]
  },
  {
   "cell_type": "code",
   "execution_count": 7,
   "metadata": {},
   "outputs": [
    {
     "ename": "NameError",
     "evalue": "name 'ohlcv_df' is not defined",
     "output_type": "error",
     "traceback": [
      "\u001b[0;31m---------------------------------------------------------------------------\u001b[0m",
      "\u001b[0;31mNameError\u001b[0m                                 Traceback (most recent call last)",
      "Cell \u001b[0;32mIn[7], line 1\u001b[0m\n\u001b[0;32m----> 1\u001b[0m basic_data \u001b[38;5;241m=\u001b[39m vbt\u001b[38;5;241m.\u001b[39mData\u001b[38;5;241m.\u001b[39mfrom_data(vbt\u001b[38;5;241m.\u001b[39msymbol_dict({symbol: \u001b[43mohlcv_df\u001b[49m}), tz_convert\u001b[38;5;241m=\u001b[39mzoneNY)\n\u001b[1;32m      2\u001b[0m vbt\u001b[38;5;241m.\u001b[39msettings[\u001b[38;5;124m'\u001b[39m\u001b[38;5;124mplotting\u001b[39m\u001b[38;5;124m'\u001b[39m][\u001b[38;5;124m'\u001b[39m\u001b[38;5;124mauto_rangebreaks\u001b[39m\u001b[38;5;124m'\u001b[39m] \u001b[38;5;241m=\u001b[39m \u001b[38;5;28;01mTrue\u001b[39;00m\n\u001b[1;32m      3\u001b[0m basic_data\u001b[38;5;241m.\u001b[39mohlcv\u001b[38;5;241m.\u001b[39mplot()\n",
      "\u001b[0;31mNameError\u001b[0m: name 'ohlcv_df' is not defined"
     ]
    }
   ],
   "source": []
  },
  {
   "cell_type": "code",
   "execution_count": null,
   "metadata": {},
   "outputs": [],
   "source": [
    "import pickle\n",
    "from v2realbot.config import ACCOUNT1_PAPER_API_KEY, ACCOUNT1_PAPER_SECRET_KEY, DATA_DIR\n",
    "import gzip\n",
    "\n",
    "file_path = f\"{DATA_DIR}/tradecache/BAC-1709044200-1709067600.cache.gz\"\n",
    "\n",
    "with gzip.open(file_path, 'rb') as fp:\n",
    "    tradesResponse = pickle.load(fp)\n",
    "\n",
    "tradesResponse"
   ]
  },
  {
   "cell_type": "code",
   "execution_count": 14,
   "metadata": {},
   "outputs": [
    {
     "data": {
      "text/html": [
       "<div>\n",
       "<style scoped>\n",
       "    .dataframe tbody tr th:only-of-type {\n",
       "        vertical-align: middle;\n",
       "    }\n",
       "\n",
       "    .dataframe tbody tr th {\n",
       "        vertical-align: top;\n",
       "    }\n",
       "\n",
       "    .dataframe thead th {\n",
       "        text-align: right;\n",
       "    }\n",
       "</style>\n",
       "<table border=\"1\" class=\"dataframe\">\n",
       "  <thead>\n",
       "    <tr style=\"text-align: right;\">\n",
       "      <th></th>\n",
       "      <th></th>\n",
       "      <th>exchange</th>\n",
       "      <th>price</th>\n",
       "      <th>size</th>\n",
       "      <th>id</th>\n",
       "      <th>conditions</th>\n",
       "      <th>tape</th>\n",
       "    </tr>\n",
       "    <tr>\n",
       "      <th>symbol</th>\n",
       "      <th>timestamp</th>\n",
       "      <th></th>\n",
       "      <th></th>\n",
       "      <th></th>\n",
       "      <th></th>\n",
       "      <th></th>\n",
       "      <th></th>\n",
       "    </tr>\n",
       "  </thead>\n",
       "  <tbody>\n",
       "    <tr>\n",
       "      <th rowspan=\"11\" valign=\"top\">BAC</th>\n",
       "      <th>2024-02-27 09:30:00.002164736-05:00</th>\n",
       "      <td>P</td>\n",
       "      <td>33.680</td>\n",
       "      <td>638</td>\n",
       "      <td>52983525158993</td>\n",
       "      <td>[ , F, T]</td>\n",
       "      <td>A</td>\n",
       "    </tr>\n",
       "    <tr>\n",
       "      <th>2024-02-27 09:30:00.128029184-05:00</th>\n",
       "      <td>P</td>\n",
       "      <td>33.690</td>\n",
       "      <td>7</td>\n",
       "      <td>52983525159224</td>\n",
       "      <td>[ , I]</td>\n",
       "      <td>A</td>\n",
       "    </tr>\n",
       "    <tr>\n",
       "      <th>2024-02-27 09:30:00.128032256-05:00</th>\n",
       "      <td>P</td>\n",
       "      <td>33.690</td>\n",
       "      <td>7</td>\n",
       "      <td>52983525159225</td>\n",
       "      <td>[ , Q]</td>\n",
       "      <td>A</td>\n",
       "    </tr>\n",
       "    <tr>\n",
       "      <th>2024-02-27 09:30:00.261718272-05:00</th>\n",
       "      <td>K</td>\n",
       "      <td>33.700</td>\n",
       "      <td>3</td>\n",
       "      <td>52983525302111</td>\n",
       "      <td>[ , F, I]</td>\n",
       "      <td>A</td>\n",
       "    </tr>\n",
       "    <tr>\n",
       "      <th>2024-02-27 09:30:00.349298176-05:00</th>\n",
       "      <td>D</td>\n",
       "      <td>33.695</td>\n",
       "      <td>1</td>\n",
       "      <td>71675256256563</td>\n",
       "      <td>[ , I]</td>\n",
       "      <td>A</td>\n",
       "    </tr>\n",
       "    <tr>\n",
       "      <th>...</th>\n",
       "      <td>...</td>\n",
       "      <td>...</td>\n",
       "      <td>...</td>\n",
       "      <td>...</td>\n",
       "      <td>...</td>\n",
       "      <td>...</td>\n",
       "    </tr>\n",
       "    <tr>\n",
       "      <th>2024-02-27 15:59:59.996081408-05:00</th>\n",
       "      <td>T</td>\n",
       "      <td>34.270</td>\n",
       "      <td>1</td>\n",
       "      <td>62880189999698</td>\n",
       "      <td>[ , I]</td>\n",
       "      <td>A</td>\n",
       "    </tr>\n",
       "    <tr>\n",
       "      <th>2024-02-27 15:59:59.996084480-05:00</th>\n",
       "      <td>T</td>\n",
       "      <td>34.270</td>\n",
       "      <td>100</td>\n",
       "      <td>62880189999699</td>\n",
       "      <td>[ ]</td>\n",
       "      <td>A</td>\n",
       "    </tr>\n",
       "    <tr>\n",
       "      <th>2024-02-27 15:59:59.997648384-05:00</th>\n",
       "      <td>N</td>\n",
       "      <td>34.270</td>\n",
       "      <td>400</td>\n",
       "      <td>52983576998465</td>\n",
       "      <td>[ ]</td>\n",
       "      <td>A</td>\n",
       "    </tr>\n",
       "    <tr>\n",
       "      <th>2024-02-27 15:59:59.998087168-05:00</th>\n",
       "      <td>T</td>\n",
       "      <td>34.270</td>\n",
       "      <td>1</td>\n",
       "      <td>62880189999929</td>\n",
       "      <td>[ , I]</td>\n",
       "      <td>A</td>\n",
       "    </tr>\n",
       "    <tr>\n",
       "      <th>2024-02-27 15:59:59.998089984-05:00</th>\n",
       "      <td>T</td>\n",
       "      <td>34.270</td>\n",
       "      <td>100</td>\n",
       "      <td>62880189999930</td>\n",
       "      <td>[ ]</td>\n",
       "      <td>A</td>\n",
       "    </tr>\n",
       "  </tbody>\n",
       "</table>\n",
       "<p>169811 rows × 6 columns</p>\n",
       "</div>"
      ],
      "text/plain": [
       "                                           exchange   price  size  \\\n",
       "symbol timestamp                                                    \n",
       "BAC    2024-02-27 09:30:00.002164736-05:00        P  33.680   638   \n",
       "       2024-02-27 09:30:00.128029184-05:00        P  33.690     7   \n",
       "       2024-02-27 09:30:00.128032256-05:00        P  33.690     7   \n",
       "       2024-02-27 09:30:00.261718272-05:00        K  33.700     3   \n",
       "       2024-02-27 09:30:00.349298176-05:00        D  33.695     1   \n",
       "...                                             ...     ...   ...   \n",
       "       2024-02-27 15:59:59.996081408-05:00        T  34.270     1   \n",
       "       2024-02-27 15:59:59.996084480-05:00        T  34.270   100   \n",
       "       2024-02-27 15:59:59.997648384-05:00        N  34.270   400   \n",
       "       2024-02-27 15:59:59.998087168-05:00        T  34.270     1   \n",
       "       2024-02-27 15:59:59.998089984-05:00        T  34.270   100   \n",
       "\n",
       "                                                        id conditions tape  \n",
       "symbol timestamp                                                            \n",
       "BAC    2024-02-27 09:30:00.002164736-05:00  52983525158993  [ , F, T]    A  \n",
       "       2024-02-27 09:30:00.128029184-05:00  52983525159224     [ , I]    A  \n",
       "       2024-02-27 09:30:00.128032256-05:00  52983525159225     [ , Q]    A  \n",
       "       2024-02-27 09:30:00.261718272-05:00  52983525302111  [ , F, I]    A  \n",
       "       2024-02-27 09:30:00.349298176-05:00  71675256256563     [ , I]    A  \n",
       "...                                                    ...        ...  ...  \n",
       "       2024-02-27 15:59:59.996081408-05:00  62880189999698     [ , I]    A  \n",
       "       2024-02-27 15:59:59.996084480-05:00  62880189999699        [ ]    A  \n",
       "       2024-02-27 15:59:59.997648384-05:00  52983576998465        [ ]    A  \n",
       "       2024-02-27 15:59:59.998087168-05:00  62880189999929     [ , I]    A  \n",
       "       2024-02-27 15:59:59.998089984-05:00  62880189999930        [ ]    A  \n",
       "\n",
       "[169811 rows x 6 columns]"
      ]
     },
     "execution_count": 14,
     "metadata": {},
     "output_type": "execute_result"
    }
   ],
   "source": [
    "def convert_dict_to_multiindex_df(tradesResponse):\n",
    "    # Create a DataFrame for each key and add the key as part of the MultiIndex\n",
    "    dfs = []\n",
    "    for key, values in tradesResponse.items():\n",
    "        df = pd.DataFrame(values)\n",
    "        # Rename columns\n",
    "        # Select and order columns explicitly\n",
    "        #print(df)\n",
    "        df = df[['t', 'x', 'p', 's', 'i', 'c','z']]\n",
    "        df.rename(columns={'t': 'timestamp', 'c': 'conditions', 'p': 'price', 's': 'size', 'x': 'exchange', 'z':'tape', 'i':'id'}, inplace=True)\n",
    "        df['symbol'] = key  # Add ticker as a column\n",
    "        df['timestamp'] = pd.to_datetime(df['timestamp'])  # Convert 't' from string to datetime before setting it as an index\n",
    "        df.set_index(['symbol', 'timestamp'], inplace=True)  # Set the multi-level index using both 'ticker' and 't'\n",
    "        df = df.tz_convert(zoneNY, level='timestamp')\n",
    "        dfs.append(df)\n",
    "\n",
    "    # Concatenate all DataFrames into a single DataFrame with MultiIndex\n",
    "    final_df = pd.concat(dfs)\n",
    "\n",
    "    return final_df\n",
    "\n",
    "# Convert and print the DataFrame\n",
    "df = convert_dict_to_multiindex_df(tradesResponse)\n",
    "df\n"
   ]
  },
  {
   "cell_type": "code",
   "execution_count": 6,
   "metadata": {},
   "outputs": [
    {
     "name": "stdout",
     "output_type": "stream",
     "text": [
      "<class 'pandas.core.frame.DataFrame'>\n",
      "MultiIndex: 169811 entries, (0, 'BAC') to (169810, 'BAC')\n",
      "Data columns (total 7 columns):\n",
      " #   Column  Non-Null Count   Dtype              \n",
      "---  ------  --------------   -----              \n",
      " 0   c       169811 non-null  object             \n",
      " 1   i       169811 non-null  int64              \n",
      " 2   p       169811 non-null  float64            \n",
      " 3   s       169811 non-null  int64              \n",
      " 4   t       169811 non-null  datetime64[ns, UTC]\n",
      " 5   x       169811 non-null  object             \n",
      " 6   z       169811 non-null  object             \n",
      "dtypes: datetime64[ns, UTC](1), float64(1), int64(2), object(3)\n",
      "memory usage: 9.9+ MB\n"
     ]
    }
   ],
   "source": [
    "df.info()"
   ]
  },
  {
   "cell_type": "code",
   "execution_count": 4,
   "metadata": {},
   "outputs": [
    {
     "name": "stdout",
     "output_type": "stream",
     "text": [
      "<class 'pandas.core.frame.DataFrame'>\n",
      "DatetimeIndex: 46344 entries, 2024-03-01 09:30:00-05:00 to 2024-03-04 15:59:59-05:00\n",
      "Data columns (total 6 columns):\n",
      " #   Column  Non-Null Count  Dtype  \n",
      "---  ------  --------------  -----  \n",
      " 0   open    46344 non-null  float64\n",
      " 1   high    46344 non-null  float64\n",
      " 2   low     46344 non-null  float64\n",
      " 3   close   46344 non-null  float64\n",
      " 4   volume  46344 non-null  float64\n",
      " 5   trades  46344 non-null  float64\n",
      "dtypes: float64(6)\n",
      "memory usage: 2.5 MB\n"
     ]
    }
   ],
   "source": [
    "ohlcv_df.info()"
   ]
  },
  {
   "cell_type": "code",
   "execution_count": 6,
   "metadata": {},
   "outputs": [
    {
     "name": "stdout",
     "output_type": "stream",
     "text": [
      "<class 'pandas.core.frame.DataFrame'>\n",
      "DatetimeIndex: 46344 entries, 2024-03-01 09:30:00-05:00 to 2024-03-04 15:59:59-05:00\n",
      "Data columns (total 6 columns):\n",
      " #   Column  Non-Null Count  Dtype  \n",
      "---  ------  --------------  -----  \n",
      " 0   open    46344 non-null  float64\n",
      " 1   high    46344 non-null  float64\n",
      " 2   low     46344 non-null  float64\n",
      " 3   close   46344 non-null  float64\n",
      " 4   volume  46344 non-null  float64\n",
      " 5   trades  46344 non-null  float64\n",
      "dtypes: float64(6)\n",
      "memory usage: 2.5 MB\n"
     ]
    }
   ],
   "source": [
    "ohlcv_df.info()"
   ]
  },
  {
   "cell_type": "code",
   "execution_count": 3,
   "metadata": {},
   "outputs": [],
   "source": [
    "ohlcv_df = aggregate_trades(symbol=symbol, trades_df=df, resolution=1000, type=\"dollar\")"
   ]
  },
  {
   "cell_type": "code",
   "execution_count": 5,
   "metadata": {},
   "outputs": [
    {
     "data": {
      "text/plain": [
       "Index(['2024-03-01 09', '2024-03-01 10', '2024-03-01 11', '2024-03-01 12',\n",
       "       '2024-03-01 13', '2024-03-01 14', '2024-03-01 15', '2024-03-04 09',\n",
       "       '2024-03-04 10', '2024-03-04 11', '2024-03-04 12', '2024-03-04 13',\n",
       "       '2024-03-04 14', '2024-03-04 15'],\n",
       "      dtype='object', name='time')"
      ]
     },
     "execution_count": 5,
     "metadata": {},
     "output_type": "execute_result"
    }
   ],
   "source": [
    "ohlcv_df.index.strftime('%Y-%m-%d %H').unique()"
   ]
  },
  {
   "cell_type": "code",
   "execution_count": 5,
   "metadata": {},
   "outputs": [
    {
     "data": {
      "text/html": [
       "<div>\n",
       "<style scoped>\n",
       "    .dataframe tbody tr th:only-of-type {\n",
       "        vertical-align: middle;\n",
       "    }\n",
       "\n",
       "    .dataframe tbody tr th {\n",
       "        vertical-align: top;\n",
       "    }\n",
       "\n",
       "    .dataframe thead th {\n",
       "        text-align: right;\n",
       "    }\n",
       "</style>\n",
       "<table border=\"1\" class=\"dataframe\">\n",
       "  <thead>\n",
       "    <tr style=\"text-align: right;\">\n",
       "      <th></th>\n",
       "      <th>open</th>\n",
       "      <th>high</th>\n",
       "      <th>low</th>\n",
       "      <th>close</th>\n",
       "      <th>volume</th>\n",
       "      <th>trades</th>\n",
       "    </tr>\n",
       "    <tr>\n",
       "      <th>time</th>\n",
       "      <th></th>\n",
       "      <th></th>\n",
       "      <th></th>\n",
       "      <th></th>\n",
       "      <th></th>\n",
       "      <th></th>\n",
       "    </tr>\n",
       "  </thead>\n",
       "  <tbody>\n",
       "    <tr>\n",
       "      <th>2024-03-01 09:34:00.145446062-05:00</th>\n",
       "      <td>34.555</td>\n",
       "      <td>34.555</td>\n",
       "      <td>34.555</td>\n",
       "      <td>34.555</td>\n",
       "      <td>28.939372</td>\n",
       "      <td>1.0</td>\n",
       "    </tr>\n",
       "    <tr>\n",
       "      <th>2024-03-01 09:34:00.145447016-05:00</th>\n",
       "      <td>34.555</td>\n",
       "      <td>34.555</td>\n",
       "      <td>34.555</td>\n",
       "      <td>34.555</td>\n",
       "      <td>28.939372</td>\n",
       "      <td>1.0</td>\n",
       "    </tr>\n",
       "    <tr>\n",
       "      <th>2024-03-01 09:34:00.145447016-05:00</th>\n",
       "      <td>34.555</td>\n",
       "      <td>34.555</td>\n",
       "      <td>34.555</td>\n",
       "      <td>34.555</td>\n",
       "      <td>28.939372</td>\n",
       "      <td>1.0</td>\n",
       "    </tr>\n",
       "    <tr>\n",
       "      <th>2024-03-01 09:34:00.145447016-05:00</th>\n",
       "      <td>34.555</td>\n",
       "      <td>34.555</td>\n",
       "      <td>34.555</td>\n",
       "      <td>34.555</td>\n",
       "      <td>28.939372</td>\n",
       "      <td>1.0</td>\n",
       "    </tr>\n",
       "    <tr>\n",
       "      <th>2024-03-01 09:34:00.145447016-05:00</th>\n",
       "      <td>34.555</td>\n",
       "      <td>34.555</td>\n",
       "      <td>34.555</td>\n",
       "      <td>34.555</td>\n",
       "      <td>28.939372</td>\n",
       "      <td>1.0</td>\n",
       "    </tr>\n",
       "    <tr>\n",
       "      <th>...</th>\n",
       "      <td>...</td>\n",
       "      <td>...</td>\n",
       "      <td>...</td>\n",
       "      <td>...</td>\n",
       "      <td>...</td>\n",
       "      <td>...</td>\n",
       "    </tr>\n",
       "    <tr>\n",
       "      <th>2024-03-01 09:34:05.011623859-05:00</th>\n",
       "      <td>34.560</td>\n",
       "      <td>34.560</td>\n",
       "      <td>34.560</td>\n",
       "      <td>34.560</td>\n",
       "      <td>28.935185</td>\n",
       "      <td>1.0</td>\n",
       "    </tr>\n",
       "    <tr>\n",
       "      <th>2024-03-01 09:34:05.011623859-05:00</th>\n",
       "      <td>34.560</td>\n",
       "      <td>34.560</td>\n",
       "      <td>34.560</td>\n",
       "      <td>34.560</td>\n",
       "      <td>28.935185</td>\n",
       "      <td>1.0</td>\n",
       "    </tr>\n",
       "    <tr>\n",
       "      <th>2024-03-01 09:34:05.011623859-05:00</th>\n",
       "      <td>34.560</td>\n",
       "      <td>34.560</td>\n",
       "      <td>34.560</td>\n",
       "      <td>34.560</td>\n",
       "      <td>28.935185</td>\n",
       "      <td>1.0</td>\n",
       "    </tr>\n",
       "    <tr>\n",
       "      <th>2024-03-01 09:34:05.011623859-05:00</th>\n",
       "      <td>34.560</td>\n",
       "      <td>34.560</td>\n",
       "      <td>34.560</td>\n",
       "      <td>34.560</td>\n",
       "      <td>28.935185</td>\n",
       "      <td>1.0</td>\n",
       "    </tr>\n",
       "    <tr>\n",
       "      <th>2024-03-01 09:34:05.011623859-05:00</th>\n",
       "      <td>34.560</td>\n",
       "      <td>34.560</td>\n",
       "      <td>34.560</td>\n",
       "      <td>34.560</td>\n",
       "      <td>28.935185</td>\n",
       "      <td>2.0</td>\n",
       "    </tr>\n",
       "  </tbody>\n",
       "</table>\n",
       "<p>100 rows × 6 columns</p>\n",
       "</div>"
      ],
      "text/plain": [
       "                                       open    high     low   close  \\\n",
       "time                                                                  \n",
       "2024-03-01 09:34:00.145446062-05:00  34.555  34.555  34.555  34.555   \n",
       "2024-03-01 09:34:00.145447016-05:00  34.555  34.555  34.555  34.555   \n",
       "2024-03-01 09:34:00.145447016-05:00  34.555  34.555  34.555  34.555   \n",
       "2024-03-01 09:34:00.145447016-05:00  34.555  34.555  34.555  34.555   \n",
       "2024-03-01 09:34:00.145447016-05:00  34.555  34.555  34.555  34.555   \n",
       "...                                     ...     ...     ...     ...   \n",
       "2024-03-01 09:34:05.011623859-05:00  34.560  34.560  34.560  34.560   \n",
       "2024-03-01 09:34:05.011623859-05:00  34.560  34.560  34.560  34.560   \n",
       "2024-03-01 09:34:05.011623859-05:00  34.560  34.560  34.560  34.560   \n",
       "2024-03-01 09:34:05.011623859-05:00  34.560  34.560  34.560  34.560   \n",
       "2024-03-01 09:34:05.011623859-05:00  34.560  34.560  34.560  34.560   \n",
       "\n",
       "                                        volume  trades  \n",
       "time                                                    \n",
       "2024-03-01 09:34:00.145446062-05:00  28.939372     1.0  \n",
       "2024-03-01 09:34:00.145447016-05:00  28.939372     1.0  \n",
       "2024-03-01 09:34:00.145447016-05:00  28.939372     1.0  \n",
       "2024-03-01 09:34:00.145447016-05:00  28.939372     1.0  \n",
       "2024-03-01 09:34:00.145447016-05:00  28.939372     1.0  \n",
       "...                                        ...     ...  \n",
       "2024-03-01 09:34:05.011623859-05:00  28.935185     1.0  \n",
       "2024-03-01 09:34:05.011623859-05:00  28.935185     1.0  \n",
       "2024-03-01 09:34:05.011623859-05:00  28.935185     1.0  \n",
       "2024-03-01 09:34:05.011623859-05:00  28.935185     1.0  \n",
       "2024-03-01 09:34:05.011623859-05:00  28.935185     2.0  \n",
       "\n",
       "[100 rows x 6 columns]"
      ]
     },
     "execution_count": 5,
     "metadata": {},
     "output_type": "execute_result"
    }
   ],
   "source": [
    "#ohlcv_df.groupby(ohlcv_df.index.date).size()\n",
    "ohlcv_df.head(100)"
   ]
  },
  {
   "cell_type": "code",
   "execution_count": 6,
   "metadata": {},
   "outputs": [
    {
     "data": {
      "text/html": [
       "<div>\n",
       "<style scoped>\n",
       "    .dataframe tbody tr th:only-of-type {\n",
       "        vertical-align: middle;\n",
       "    }\n",
       "\n",
       "    .dataframe tbody tr th {\n",
       "        vertical-align: top;\n",
       "    }\n",
       "\n",
       "    .dataframe thead th {\n",
       "        text-align: right;\n",
       "    }\n",
       "</style>\n",
       "<table border=\"1\" class=\"dataframe\">\n",
       "  <thead>\n",
       "    <tr style=\"text-align: right;\">\n",
       "      <th></th>\n",
       "      <th></th>\n",
       "      <th>exchange</th>\n",
       "      <th>price</th>\n",
       "      <th>size</th>\n",
       "      <th>id</th>\n",
       "      <th>conditions</th>\n",
       "      <th>tape</th>\n",
       "    </tr>\n",
       "    <tr>\n",
       "      <th>symbol</th>\n",
       "      <th>timestamp</th>\n",
       "      <th></th>\n",
       "      <th></th>\n",
       "      <th></th>\n",
       "      <th></th>\n",
       "      <th></th>\n",
       "      <th></th>\n",
       "    </tr>\n",
       "  </thead>\n",
       "  <tbody>\n",
       "    <tr>\n",
       "      <th rowspan=\"11\" valign=\"top\">BAC</th>\n",
       "      <th>2024-03-01 09:34:00.145446-05:00</th>\n",
       "      <td>D</td>\n",
       "      <td>34.5550</td>\n",
       "      <td>500.0</td>\n",
       "      <td>71675373899865</td>\n",
       "      <td>[ ]</td>\n",
       "      <td>A</td>\n",
       "    </tr>\n",
       "    <tr>\n",
       "      <th>2024-03-01 09:34:00.864348-05:00</th>\n",
       "      <td>D</td>\n",
       "      <td>34.5563</td>\n",
       "      <td>157.0</td>\n",
       "      <td>71675373958977</td>\n",
       "      <td>[ ]</td>\n",
       "      <td>A</td>\n",
       "    </tr>\n",
       "    <tr>\n",
       "      <th>2024-03-01 09:34:00.960608-05:00</th>\n",
       "      <td>D</td>\n",
       "      <td>34.5500</td>\n",
       "      <td>100.0</td>\n",
       "      <td>71675373961523</td>\n",
       "      <td>[ ]</td>\n",
       "      <td>A</td>\n",
       "    </tr>\n",
       "    <tr>\n",
       "      <th>2024-03-01 09:34:01.584619-05:00</th>\n",
       "      <td>D</td>\n",
       "      <td>34.5550</td>\n",
       "      <td>100.0</td>\n",
       "      <td>71675373965623</td>\n",
       "      <td>[ ]</td>\n",
       "      <td>A</td>\n",
       "    </tr>\n",
       "    <tr>\n",
       "      <th>2024-03-01 09:34:01.793712-05:00</th>\n",
       "      <td>D</td>\n",
       "      <td>34.5550</td>\n",
       "      <td>108.0</td>\n",
       "      <td>71675373966644</td>\n",
       "      <td>[ ]</td>\n",
       "      <td>A</td>\n",
       "    </tr>\n",
       "    <tr>\n",
       "      <th>...</th>\n",
       "      <td>...</td>\n",
       "      <td>...</td>\n",
       "      <td>...</td>\n",
       "      <td>...</td>\n",
       "      <td>...</td>\n",
       "      <td>...</td>\n",
       "    </tr>\n",
       "    <tr>\n",
       "      <th>2024-03-04 15:54:59.940080-05:00</th>\n",
       "      <td>Y</td>\n",
       "      <td>35.1600</td>\n",
       "      <td>63.0</td>\n",
       "      <td>52983525230401</td>\n",
       "      <td>[ , I]</td>\n",
       "      <td>A</td>\n",
       "    </tr>\n",
       "    <tr>\n",
       "      <th>2024-03-04 15:54:59.940107-05:00</th>\n",
       "      <td>Z</td>\n",
       "      <td>35.1550</td>\n",
       "      <td>65.0</td>\n",
       "      <td>52983526682176</td>\n",
       "      <td>[ , I]</td>\n",
       "      <td>A</td>\n",
       "    </tr>\n",
       "    <tr>\n",
       "      <th>2024-03-04 15:54:59.940110-05:00</th>\n",
       "      <td>Z</td>\n",
       "      <td>35.1550</td>\n",
       "      <td>200.0</td>\n",
       "      <td>52983526682177</td>\n",
       "      <td>[ ]</td>\n",
       "      <td>A</td>\n",
       "    </tr>\n",
       "    <tr>\n",
       "      <th>2024-03-04 15:54:59.940113-05:00</th>\n",
       "      <td>Z</td>\n",
       "      <td>35.1600</td>\n",
       "      <td>100.0</td>\n",
       "      <td>52983526682179</td>\n",
       "      <td>[ ]</td>\n",
       "      <td>A</td>\n",
       "    </tr>\n",
       "    <tr>\n",
       "      <th>2024-03-04 15:54:59.940615-05:00</th>\n",
       "      <td>V</td>\n",
       "      <td>35.1500</td>\n",
       "      <td>96.0</td>\n",
       "      <td>56471089803589</td>\n",
       "      <td>[ , I]</td>\n",
       "      <td>A</td>\n",
       "    </tr>\n",
       "  </tbody>\n",
       "</table>\n",
       "<p>168972 rows × 6 columns</p>\n",
       "</div>"
      ],
      "text/plain": [
       "                                        exchange    price   size  \\\n",
       "symbol timestamp                                                   \n",
       "BAC    2024-03-01 09:34:00.145446-05:00        D  34.5550  500.0   \n",
       "       2024-03-01 09:34:00.864348-05:00        D  34.5563  157.0   \n",
       "       2024-03-01 09:34:00.960608-05:00        D  34.5500  100.0   \n",
       "       2024-03-01 09:34:01.584619-05:00        D  34.5550  100.0   \n",
       "       2024-03-01 09:34:01.793712-05:00        D  34.5550  108.0   \n",
       "...                                          ...      ...    ...   \n",
       "       2024-03-04 15:54:59.940080-05:00        Y  35.1600   63.0   \n",
       "       2024-03-04 15:54:59.940107-05:00        Z  35.1550   65.0   \n",
       "       2024-03-04 15:54:59.940110-05:00        Z  35.1550  200.0   \n",
       "       2024-03-04 15:54:59.940113-05:00        Z  35.1600  100.0   \n",
       "       2024-03-04 15:54:59.940615-05:00        V  35.1500   96.0   \n",
       "\n",
       "                                                     id conditions tape  \n",
       "symbol timestamp                                                         \n",
       "BAC    2024-03-01 09:34:00.145446-05:00  71675373899865        [ ]    A  \n",
       "       2024-03-01 09:34:00.864348-05:00  71675373958977        [ ]    A  \n",
       "       2024-03-01 09:34:00.960608-05:00  71675373961523        [ ]    A  \n",
       "       2024-03-01 09:34:01.584619-05:00  71675373965623        [ ]    A  \n",
       "       2024-03-01 09:34:01.793712-05:00  71675373966644        [ ]    A  \n",
       "...                                                 ...        ...  ...  \n",
       "       2024-03-04 15:54:59.940080-05:00  52983525230401     [ , I]    A  \n",
       "       2024-03-04 15:54:59.940107-05:00  52983526682176     [ , I]    A  \n",
       "       2024-03-04 15:54:59.940110-05:00  52983526682177        [ ]    A  \n",
       "       2024-03-04 15:54:59.940113-05:00  52983526682179        [ ]    A  \n",
       "       2024-03-04 15:54:59.940615-05:00  56471089803589     [ , I]    A  \n",
       "\n",
       "[168972 rows x 6 columns]"
      ]
     },
     "execution_count": 6,
     "metadata": {},
     "output_type": "execute_result"
    }
   ],
   "source": [
    "df"
   ]
  },
  {
   "cell_type": "code",
   "execution_count": null,
   "metadata": {},
   "outputs": [],
   "source": [
    "#access just BCA\n",
    "df_filtered = df.loc[\"BAC\"]\n",
    "\n",
    "df_filtered.info()"
   ]
  },
  {
   "cell_type": "code",
   "execution_count": null,
   "metadata": {},
   "outputs": [],
   "source": [
    "df_filtered= df_filtered.reset_index()\n",
    "ticks = df_filtered[['timestamp', 'price', 'size']].to_numpy()\n",
    "ticks\n",
    "timestamps = ticks[:, 0]\n"
   ]
  },
  {
   "cell_type": "code",
   "execution_count": null,
   "metadata": {},
   "outputs": [],
   "source": [
    "df_filtered= df_filtered.reset_index()\n",
    "ticks = df_filtered[['timestamp', 'price', 'size']].to_numpy()\n",
    "\n",
    "#timestamp to integer\n",
    "# Extract the timestamps column (assuming it's the first column)\n",
    "timestamps = ticks[:, 0]\n",
    "\n",
    "# Convert the timestamps to Unix timestamps in seconds with microsecond precision\n",
    "unix_timestamps_s = np.array([ts.timestamp() for ts in timestamps], dtype='float64')\n",
    "\n",
    "# Replace the original timestamps in the NumPy array with the converted Unix timestamps\n",
    "ticks[:, 0] = unix_timestamps_s\n",
    "\n",
    "#ticks[:, 0] = pd.to_datetime(ticks[:, 0]).astype('int64') // 1_000_000_000  # Convert to Unix timestamp\n",
    "ticks\n"
   ]
  },
  {
   "cell_type": "code",
   "execution_count": null,
   "metadata": {},
   "outputs": [],
   "source": [
    "ticks = ticks.astype(np.float64)\n",
    "ticks"
   ]
  },
  {
   "cell_type": "code",
   "execution_count": null,
   "metadata": {},
   "outputs": [],
   "source": [
    "\n",
    "resolution = 1  # Example resolution of 60 seconds\n",
    "ohlcv_bars = generate_time_bars_nb(ticks, resolution)"
   ]
  },
  {
   "cell_type": "code",
   "execution_count": null,
   "metadata": {},
   "outputs": [],
   "source": [
    "ohlcv_bars"
   ]
  },
  {
   "cell_type": "code",
   "execution_count": null,
   "metadata": {},
   "outputs": [],
   "source": [
    "# Convert the resulting array back to a DataFrame\n",
    "columns = ['time', 'open', 'high', 'low', 'close', 'volume', 'trades']\n",
    "ohlcv_df = pd.DataFrame(ohlcv_bars, columns=columns)\n",
    "ohlcv_df['time'] = pd.to_datetime(ohlcv_df['time'], unit='s')\n",
    "ohlcv_df.set_index('time', inplace=True)\n",
    "ohlcv_df.index = ohlcv_df.index.tz_localize('UTC').tz_convert(zoneNY)\n",
    "#ohlcv_df = ohlcv_df.loc[\"2024-03-1 15:50:00\":\"2024-03-28 13:40:00\"]\n",
    "#ohlcv_df.index.strftime('%Y-%m-%d %H').unique()\n",
    "\n",
    "ohlcv_df"
   ]
  },
  {
   "cell_type": "code",
   "execution_count": 10,
   "metadata": {},
   "outputs": [
    {
     "ename": "TypeError",
     "evalue": "MarketCalendar.schedule() got an unexpected keyword argument 'extra_sessions'",
     "output_type": "error",
     "traceback": [
      "\u001b[0;31m---------------------------------------------------------------------------\u001b[0m",
      "\u001b[0;31mTypeError\u001b[0m                                 Traceback (most recent call last)",
      "Cell \u001b[0;32mIn[10], line 6\u001b[0m\n\u001b[1;32m      4\u001b[0m \u001b[38;5;66;03m# Define the NYSE calendar with extended hours\u001b[39;00m\n\u001b[1;32m      5\u001b[0m nyse_calendar \u001b[38;5;241m=\u001b[39m mcal\u001b[38;5;241m.\u001b[39mget_calendar(\u001b[38;5;124m'\u001b[39m\u001b[38;5;124mXNYS\u001b[39m\u001b[38;5;124m'\u001b[39m)\n\u001b[0;32m----> 6\u001b[0m schedule \u001b[38;5;241m=\u001b[39m \u001b[43mnyse_calendar\u001b[49m\u001b[38;5;241;43m.\u001b[39;49m\u001b[43mschedule\u001b[49m\u001b[43m(\u001b[49m\u001b[43mstart_date\u001b[49m\u001b[38;5;241;43m=\u001b[39;49m\u001b[38;5;124;43m'\u001b[39;49m\u001b[38;5;124;43m2023-01-01\u001b[39;49m\u001b[38;5;124;43m'\u001b[39;49m\u001b[43m,\u001b[49m\u001b[43m \u001b[49m\u001b[43mend_date\u001b[49m\u001b[38;5;241;43m=\u001b[39;49m\u001b[38;5;124;43m'\u001b[39;49m\u001b[38;5;124;43m2023-12-31\u001b[39;49m\u001b[38;5;124;43m'\u001b[39;49m\u001b[43m,\u001b[49m\u001b[43m \u001b[49m\u001b[43mextra_sessions\u001b[49m\u001b[38;5;241;43m=\u001b[39;49m\u001b[38;5;28;43;01mTrue\u001b[39;49;00m\u001b[43m)\u001b[49m\n\u001b[1;32m      8\u001b[0m \u001b[38;5;66;03m# Example: Get the schedule with pre- and post-market sessions\u001b[39;00m\n\u001b[1;32m      9\u001b[0m extended_hours \u001b[38;5;241m=\u001b[39m nyse_calendar\u001b[38;5;241m.\u001b[39msessions_with_extra(start_date\u001b[38;5;241m=\u001b[39m\u001b[38;5;124m'\u001b[39m\u001b[38;5;124m2023-01-01\u001b[39m\u001b[38;5;124m'\u001b[39m, end_date\u001b[38;5;241m=\u001b[39m\u001b[38;5;124m'\u001b[39m\u001b[38;5;124m2023-12-31\u001b[39m\u001b[38;5;124m'\u001b[39m)\n",
      "\u001b[0;31mTypeError\u001b[0m: MarketCalendar.schedule() got an unexpected keyword argument 'extra_sessions'"
     ]
    }
   ],
   "source": [
    "import pandas_market_calendars as mcal\n",
    "import pandas as pd\n",
    "\n",
    "# Define the NYSE calendar with extended hours\n",
    "nyse_calendar = mcal.get_calendar('NYSE')\n",
    "schedule = nyse_calendar.schedule(start_date='2023-01-01', end_date='2023-12-31', extra_sessions=True)\n",
    "\n",
    "# Example: Get the schedule with pre- and post-market sessions\n",
    "extended_hours = nyse_calendar.sessions_with_extra(start_date='2023-01-01', end_date='2023-12-31')"
   ]
  }
 ],
 "metadata": {
  "kernelspec": {
   "display_name": ".venv",
   "language": "python",
   "name": "python3"
  },
  "language_info": {
   "codemirror_mode": {
    "name": "ipython",
    "version": 3
   },
   "file_extension": ".py",
   "mimetype": "text/x-python",
   "name": "python",
   "nbconvert_exporter": "python",
   "pygments_lexer": "ipython3",
   "version": "3.10.11"
  }
 },
 "nbformat": 4,
 "nbformat_minor": 2
}
